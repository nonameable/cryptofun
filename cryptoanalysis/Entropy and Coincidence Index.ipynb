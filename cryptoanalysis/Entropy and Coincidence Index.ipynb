{
 "cells": [
  {
   "cell_type": "markdown",
   "metadata": {},
   "source": [
    "# Entropy and Coincidence Index "
   ]
  },
  {
   "cell_type": "markdown",
   "metadata": {},
   "source": [
    "Function to calculate shannon entropy"
   ]
  },
  {
   "cell_type": "code",
   "execution_count": 1,
   "metadata": {
    "collapsed": true
   },
   "outputs": [],
   "source": [
    "import math"
   ]
  },
  {
   "cell_type": "code",
   "execution_count": 2,
   "metadata": {},
   "outputs": [],
   "source": [
    "def shannon_entropy(sequence):\n",
    "    dict = {}\n",
    "    length = len(clean_sequence)\n",
    "    for c in clean_sequence:\n",
    "        if c in dict:\n",
    "            current_number = dict.get(c)\n",
    "            dict[c] = current_number + 1\n",
    "        else:\n",
    "            dict[c] = 1\n",
    "    probabilities = {k: float(v)/length for (k,v) in dict.items()}\n",
    "    shannon_entropy = 0\n",
    "    for character, probability in probabilities.items():\n",
    "        shannon_entropy = shannon_entropy + (probability * math.log2(probability))\n",
    "\n",
    "    shannon_entropy = shannon_entropy * -1\n",
    "    return shannon_entropy"
   ]
  },
  {
   "cell_type": "code",
   "execution_count": 3,
   "metadata": {},
   "outputs": [
    {
     "name": "stdout",
     "output_type": "stream",
     "text": [
      "for sequence 1 shannon entropy is: 2.0427006998225865\n",
      "for sequence 2 shannon entropy is: 2.010819434681725\n",
      "for sequence 3 shannon entropy is: 1.9423627220674633\n",
      "for sequence 4 shannon entropy is: 1.9651264224927136\n",
      "for sequence 5 shannon entropy is: 1.9514009035459536\n",
      "for sequence 6 shannon entropy is: 1.9270078463710347\n",
      "for sequence 7 shannon entropy is: 1.9862911118293898\n",
      "for sequence 8 shannon entropy is: 0\n",
      "for sequence 9 shannon entropy is: 1.9885382930106297\n"
     ]
    }
   ],
   "source": [
    "for i in range(1,10):\n",
    "    sequence_location = \"./adn_sequences/seq\" + str(i)\n",
    "    with open(sequence_location, 'r') as f:\n",
    "        read_data = f.read()\n",
    "    f.closed\n",
    "    clean_sequence = read_data.replace(\" \", \"\").replace(\"\\n\", \"\")\n",
    "    se = shannon_entropy(clean_sequence)\n",
    "    print(\"for sequence \" + str(i) + \" shannon entropy is: \" + str(se))"
   ]
  },
  {
   "cell_type": "code",
   "execution_count": null,
   "metadata": {
    "collapsed": true
   },
   "outputs": [],
   "source": []
  },
  {
   "cell_type": "code",
   "execution_count": null,
   "metadata": {
    "collapsed": true
   },
   "outputs": [],
   "source": []
  }
 ],
 "metadata": {
  "kernelspec": {
   "display_name": "Python 3",
   "language": "python",
   "name": "python3"
  },
  "language_info": {
   "codemirror_mode": {
    "name": "ipython",
    "version": 3
   },
   "file_extension": ".py",
   "mimetype": "text/x-python",
   "name": "python",
   "nbconvert_exporter": "python",
   "pygments_lexer": "ipython3",
   "version": "3.6.1"
  }
 },
 "nbformat": 4,
 "nbformat_minor": 2
}
