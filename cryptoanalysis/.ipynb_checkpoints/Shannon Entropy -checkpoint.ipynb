{
 "cells": [
  {
   "cell_type": "markdown",
   "metadata": {},
   "source": [
    "# Shannon Entropy "
   ]
  },
  {
   "cell_type": "markdown",
   "metadata": {},
   "source": [
    "Function to calculate shannon entropy"
   ]
  },
  {
   "cell_type": "code",
   "execution_count": 1,
   "metadata": {
    "collapsed": true
   },
   "outputs": [],
   "source": [
    "import math"
   ]
  },
  {
   "cell_type": "code",
   "execution_count": 2,
   "metadata": {
    "collapsed": true
   },
   "outputs": [],
   "source": [
    "def shannon_entropy(sequence):\n",
    "    dict = {}\n",
    "    length = len(clean_sequence)\n",
    "    for c in clean_sequence:\n",
    "        if c in dict:\n",
    "            current_number = dict.get(c)\n",
    "            dict[c] = current_number + 1\n",
    "        else:\n",
    "            dict[c] = 1\n",
    "    probabilities = {k: float(v)/length for (k,v) in dict.items()}\n",
    "    print(probabilities)\n",
    "    shannon_entropy = 0\n",
    "    for character, probability in probabilities.items():\n",
    "        shannon_entropy = shannon_entropy + (probability * math.log2(probability))\n",
    "\n",
    "    shannon_entropy = shannon_entropy * -1\n",
    "    return shannon_entropy"
   ]
  },
  {
   "cell_type": "code",
   "execution_count": 3,
   "metadata": {},
   "outputs": [
    {
     "name": "stdout",
     "output_type": "stream",
     "text": [
      "-----------------------------------------------------------\n",
      "{'C': 0.16507936507936508, 'T': 0.3111111111111111, 'G': 0.1523809523809524, 'N': 0.02857142857142857, 'A': 0.34285714285714286}\n",
      "for sequence 1 shannon entropy is: 2.0427006998225865\n",
      "-----------------------------------------------------------\n",
      "-----------------------------------------------------------\n",
      "{'G': 0.2020460358056266, 'T': 0.4040920716112532, 'C': 0.16879795396419436, 'A': 0.20460358056265984, 'N': 0.020460358056265986}\n",
      "for sequence 2 shannon entropy is: 2.010819434681725\n",
      "-----------------------------------------------------------\n",
      "-----------------------------------------------------------\n",
      "{'A': 0.4, 'C': 0.15555555555555556, 'G': 0.16, 'T': 0.27555555555555555, 'N': 0.008888888888888889}\n",
      "for sequence 3 shannon entropy is: 1.9423627220674633\n",
      "-----------------------------------------------------------\n",
      "-----------------------------------------------------------\n",
      "{'C': 0.24091778202676864, 'G': 0.19120458891013384, 'A': 0.3422562141491396, 'T': 0.22562141491395793}\n",
      "for sequence 4 shannon entropy is: 1.9651264224927136\n",
      "-----------------------------------------------------------\n",
      "-----------------------------------------------------------\n",
      "{'A': 0.3514056224899598, 'C': 0.21485943775100402, 'T': 0.25903614457831325, 'G': 0.1746987951807229}\n",
      "for sequence 5 shannon entropy is: 1.9514009035459536\n",
      "-----------------------------------------------------------\n",
      "-----------------------------------------------------------\n",
      "{'C': 0.16608996539792387, 'G': 0.17647058823529413, 'T': 0.3304498269896194, 'A': 0.32698961937716264}\n",
      "for sequence 6 shannon entropy is: 1.9270078463710347\n",
      "-----------------------------------------------------------\n",
      "-----------------------------------------------------------\n",
      "{'G': 0.21390300720033883, 'T': 0.2805167301990682, 'C': 0.2175137653536637, 'A': 0.2880664972469293}\n",
      "for sequence 7 shannon entropy is: 1.9862911118293898\n",
      "-----------------------------------------------------------\n",
      "-----------------------------------------------------------\n",
      "{'G': 0.21755429597620518, 'A': 0.28294517088501037, 'T': 0.2837308490936641, 'C': 0.21576968404512037}\n",
      "for sequence 8 shannon entropy is: 1.987128066623325\n",
      "-----------------------------------------------------------\n",
      "-----------------------------------------------------------\n",
      "{'G': 0.24055135615829257, 'A': 0.2810137839039573, 'C': 0.27523343708314807, 'T': 0.20320142285460205}\n",
      "for sequence 9 shannon entropy is: 1.9885382930106297\n",
      "-----------------------------------------------------------\n"
     ]
    }
   ],
   "source": [
    "for i in range(1,10):\n",
    "    print(\"-----------------------------------------------------------\")\n",
    "    sequence_location = \"./adn_sequences/seq\" + str(i)\n",
    "    with open(sequence_location, 'r') as f:\n",
    "        read_data = f.read()\n",
    "    f.closed\n",
    "    clean_sequence = read_data.replace(\" \", \"\").replace(\"\\n\", \"\")\n",
    "    se = shannon_entropy(clean_sequence)\n",
    "    print(\"for sequence \" + str(i) + \" shannon entropy is: \" + str(se))\n",
    "    print(\"-----------------------------------------------------------\")"
   ]
  },
  {
   "cell_type": "code",
   "execution_count": null,
   "metadata": {
    "collapsed": true
   },
   "outputs": [],
   "source": []
  },
  {
   "cell_type": "code",
   "execution_count": null,
   "metadata": {
    "collapsed": true
   },
   "outputs": [],
   "source": []
  }
 ],
 "metadata": {
  "kernelspec": {
   "display_name": "Python 3",
   "language": "python",
   "name": "python3"
  },
  "language_info": {
   "codemirror_mode": {
    "name": "ipython",
    "version": 3
   },
   "file_extension": ".py",
   "mimetype": "text/x-python",
   "name": "python",
   "nbconvert_exporter": "python",
   "pygments_lexer": "ipython3",
   "version": "3.6.1"
  }
 },
 "nbformat": 4,
 "nbformat_minor": 2
}
